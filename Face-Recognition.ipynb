{
 "cells": [
  {
   "cell_type": "markdown",
   "metadata": {},
   "source": [
    "## Face-Recognition"
   ]
  },
  {
   "cell_type": "markdown",
   "metadata": {},
   "source": [
    "##### References --> \n",
    "##### 1.) https://www.geeksforgeeks.org/ml-face-recognition-using-eigenfaces-pca-algorithm/\n",
    "##### 2.) https://www.youtube.com/watch?v=5HNr_j6LmPc\n",
    "\n",
    "##### How i trained my own Cascade Classifier using OpenCV? (Given in the README.md) --> https://github.com/Lovepreet-Singh-LPSK/Face-Recognition "
   ]
  },
  {
   "cell_type": "code",
   "execution_count": 1,
   "metadata": {},
   "outputs": [],
   "source": [
    "# Importing necessary libraries\n",
    "import warnings\n",
    "warnings.filterwarnings(\"ignore\")\n",
    "import numpy as np\n",
    "import pandas as pd\n",
    "import cv2\n",
    "import matplotlib.pyplot as plt\n",
    "import random\n",
    "import scipy"
   ]
  },
  {
   "cell_type": "markdown",
   "metadata": {},
   "source": [
    "## TRAINING :-\n",
    "#### 1.) Use Viola Jones to detect Faces from images.\n",
    "#### 2.) Crop Images to Faces Only.\n",
    "#### 3.) Stack images into an array with images labels in another array. Images then divided into Train and Test.\n",
    "#### 4.) Calculate Mean Face of training face and substract from each Face.\n",
    "#### 5.) Calculate Covariance Matrix from that Resulted Matrix.\n",
    "#### 6.) Calculate eigenvectors and eigenvalues wrt that Covariance Matrix.\n",
    "#### 7.) Pick top eigenvectors by referring to the top eigenvalues and express each face to the linear combination of the eigenfaces.\n",
    "#### 8.) Store the weights of the linear combination in array to use later for distance calculation."
   ]
  },
  {
   "cell_type": "code",
   "execution_count": 2,
   "metadata": {},
   "outputs": [],
   "source": [
    "# Note:\n",
    "#     No. of Total Images = 166\n",
    "#     No. of Training Images = 133\n",
    "#     No. of Testing Images = 33\n",
    "#     Dimensions of images = 40*40"
   ]
  },
  {
   "cell_type": "code",
   "execution_count": 76,
   "metadata": {},
   "outputs": [],
   "source": [
    "zero_matrix = np.zeros((40*40,))  # Shape = 40*40\n",
    "#Using Pretrained Cascade classifier for better performance.\n",
    "face_cascade = cv2.CascadeClassifier(cv2.haarcascades + \"haarcascade_frontalface_default.xml\")\n",
    "\n",
    "images = [] #Images to be stored\n",
    "\n",
    "ndim = (40,40) #Consistent dimension of the images used in all the code\n",
    "\n",
    "df_faces = pd.read_csv(\"yalefaces/yalefaces.csv\", names = [\"Label\",\"x\",\"y\",\"w\",\"h\",\"Path\",\"W\",\"H\"])\n",
    "\n",
    "images_paths = df_faces[\"Path\"].values #Images paths\n",
    "\n",
    "Labels = df_faces['Label'].values #Images labels for face-rec.\n",
    "\n",
    "for image_path in (images_paths): \n",
    "\n",
    "    img = cv2.imread(\"yalefaces2/\" + image_path, cv2.IMREAD_GRAYSCALE) #Reading image in gray scale\n",
    "    \n",
    "    faces = face_cascade.detectMultiScale(img, 1.3, 5) \n",
    "    \n",
    "    if faces != () : #If face is detected using Haarcascade classifier\n",
    "    \n",
    "        x,y,w,h = faces[0][0], faces[0][1], faces[0][2], faces[0][3] #Coordinates of the face detected rectangle\n",
    "    \n",
    "        img = img[y:y+h, x:x+w] #Face crop for use in eigenFace algo.\n",
    "    \n",
    "        img = cv2.resize(img, ndim) #Maintaing consitency in image size\n",
    "    \n",
    "        img = np.asarray(img,dtype=float)/255.0 #Normilizing the image pixels\n",
    "    \n",
    "        images.append(img.flatten()) #Flat image\n",
    "        \n",
    "        zero_matrix = zero_matrix + img.flatten()\n",
    "    \n",
    "    else: #If face is not detected store entire image instead of face\n",
    "    \n",
    "        img = cv2.resize(img, ndim)\n",
    "    \n",
    "        img = np.asarray(img,dtype=float)/255.0\n",
    "    \n",
    "        images.append(img.flatten())\n",
    "        \n",
    "        zero_matrix = zero_matrix + img.flatten()"
   ]
  },
  {
   "cell_type": "code",
   "execution_count": 77,
   "metadata": {},
   "outputs": [
    {
     "name": "stdout",
     "output_type": "stream",
     "text": [
      "Complete Dataset Shapes: X_train.shape , Y_train.shape , X_test.shape, Y_test.shape --  (133, 1600) (133,) (33, 1600) (33,)\n"
     ]
    }
   ],
   "source": [
    "def shuffle_split(X, Y): #Randomly shuffling and splitting the data into Train and Test sets\n",
    "    no_for_test, no_for_train = [], []\n",
    "    count = 0\n",
    "    while count != 33: #33 Images for testing\n",
    "        x = random.randint(0,165)\n",
    "        if (x in no_for_test) or (x in no_for_train):\n",
    "            continue\n",
    "        else:\n",
    "            no_for_test.append(x)\n",
    "            count+=1\n",
    "    count = 0\n",
    "    while count!=133: #133 Images for training\n",
    "        x = random.randint(0,165)\n",
    "        if (x in no_for_train) or (x in no_for_test):\n",
    "            continue\n",
    "        else:\n",
    "            no_for_train.append(x)\n",
    "            count+=1\n",
    "    return X[no_for_train,], Y[no_for_train], X[no_for_test,], Y[no_for_test]\n",
    "\n",
    "images = np.matrix(images) #Change to np array\n",
    "\n",
    "X, Y = images, Labels\n",
    "\n",
    "X_train, Y_train, X_test, Y_test = shuffle_split(X,Y) #Data shuffling and dividing into train and test\n",
    "\n",
    "flattened_images = X_train # Flattened images in an array. Shape -- Mx(N*N)\n",
    "image = flattened_images\n",
    "\n",
    "print(\"Complete Dataset Shapes: X_train.shape , Y_train.shape , X_test.shape, Y_test.shape -- \",X_train.shape , Y_train.shape , X_test.shape, Y_test.shape)"
   ]
  },
  {
   "cell_type": "code",
   "execution_count": 78,
   "metadata": {},
   "outputs": [
    {
     "name": "stdout",
     "output_type": "stream",
     "text": [
      "Shape of the mean_image : 1600\n"
     ]
    }
   ],
   "source": [
    "def ImagesDisplay(images): #Function to display images in 5x5 grid\n",
    "    fig1, axes = plt.subplots(5, 5)\n",
    "    fig1.set_size_inches(5, 5)\n",
    "    k=0\n",
    "    for row in range(5):\n",
    "        for col in range(5):    \n",
    "            im = np.reshape(images[k],(40,40))\n",
    "            image_plot = axes[row][col].imshow(im,cmap = plt.cm.gray) \n",
    "            axes[row][col].axis('off')\n",
    "            k = k+1\n",
    "    plt.show()\n",
    "\n",
    "avg = zero_matrix/len(image) # Average matrix \n",
    "print(\"Shape of the mean_image : %d\"%avg.shape)"
   ]
  },
  {
   "cell_type": "code",
   "execution_count": 79,
   "metadata": {},
   "outputs": [
    {
     "data": {
      "image/png": "[encoded data removed]",
      "text/plain": [
       "<Figure size 432x288 with 1 Axes>"
      ]
     },
     "metadata": {
      "needs_background": "light"
     },
     "output_type": "display_data"
    }
   ],
   "source": [
    "#Mean Face\n",
    "temp_image = avg.reshape(40,40)\n",
    "plt.imshow(temp_image, cmap = \"gray\")\n",
    "plt.title(\"Average Face\")\n",
    "plt.show()"
   ]
  },
  {
   "cell_type": "code",
   "execution_count": 80,
   "metadata": {},
   "outputs": [
    {
     "name": "stdout",
     "output_type": "stream",
     "text": [
      "Shape of Difference Matrix:  (133, 1600)\n"
     ]
    }
   ],
   "source": [
    "Difference_mat = [] # Creating a difference matrix \n",
    "for i in range(len(image)):\n",
    "    diff = flattened_images[i] - avg\n",
    "    Difference_mat.extend(diff.tolist())\n",
    "Difference_mat = np.array(Difference_mat) #Shape -- [Mx(N*N)]\n",
    "print(\"Shape of Difference Matrix: \",Difference_mat.shape)"
   ]
  },
  {
   "cell_type": "code",
   "execution_count": 96,
   "metadata": {},
   "outputs": [
    {
     "name": "stdout",
     "output_type": "stream",
     "text": [
      "Con_1 Matrix Shape:  (133, 133)\n"
     ]
    }
   ],
   "source": [
    "Cov_1 = np.dot(Difference_mat, np.transpose(Difference_mat)) # Shape of the matrix MxM\n",
    "print(\"Con_1 Matrix Shape: \",Cov_1.shape)\n",
    "\n",
    "w,v = np.linalg.eig(Cov_1) #Eigenvector and eigenvalues of Cov_1\n",
    "ind = w.argsort()[::-1]\n",
    "w_sort = w[ind]\n",
    "v_sort = v[ind] #Sorted eigenvectors\n",
    "\n",
    "u = np.dot(np.transpose(Difference_mat),v_sort) # Eigen Vector of Covarince Matrix\n",
    "u = np.transpose(u) \n",
    "u_norm = np.zeros((len(flattened_images),1600))"
   ]
  },
  {
   "cell_type": "code",
   "execution_count": 102,
   "metadata": {},
   "outputs": [
    {
     "name": "stdout",
     "output_type": "stream",
     "text": [
      "Eigen Faces -->\n"
     ]
    },
    {
     "data": {
      "image/png": "[encoded data removed]",
      "text/plain": [
       "<Figure size 360x360 with 25 Axes>"
      ]
     },
     "metadata": {
      "needs_background": "light"
     },
     "output_type": "display_data"
    }
   ],
   "source": [
    "for i in range(len(flattened_images)): #Normalized u\n",
    "    u_norm[i] = u[i]/np.linalg.norm(u[i], ord=2, axis=0, keepdims=True)\n",
    "weight_mat = [] #Weight Matrix\n",
    "print(\"Eigen Faces -->\")\n",
    "ImagesDisplay(u_norm)"
   ]
  },
  {
   "cell_type": "code",
   "execution_count": 98,
   "metadata": {},
   "outputs": [
    {
     "data": {
      "text/plain": [
       "(133, 25)"
      ]
     },
     "execution_count": 98,
     "metadata": {},
     "output_type": "execute_result"
    }
   ],
   "source": [
    "K = 25 # EigenFaces for linear combination\n",
    "for i in range(len(flattened_images)):\n",
    "    w =[]\n",
    "    for j in range(K):\n",
    "        w.append(np.dot(np.transpose(u_norm[j]) ,Difference_mat[i]))\n",
    "    weight_mat.append(w)\n",
    "weight_mat = np.array(weight_mat) #Final weight matrix\n",
    "weight_mat.shape"
   ]
  },
  {
   "cell_type": "code",
   "execution_count": 99,
   "metadata": {},
   "outputs": [],
   "source": [
    "def Test(t_avg,num,K,image):\n",
    "    img_test = np.asarray(X_test[num],dtype=float)/255.0 #Test image\n",
    "    img_test = img_test.flatten() # Flattened test image\n",
    "    avg_test = img_test - t_avg\n",
    "    w_test = [] #Weight matrix of the test image\n",
    "    for i in range(K):\n",
    "        w_test.append(np.dot(np.transpose(u_norm[i]),avg_test.T)) \n",
    "\n",
    "    distance = [] # Calculating distance from all the train image\n",
    "    for i in range(len(flattened_images)):\n",
    "        distance.append(np.linalg.norm(w_test - weight_mat[i]))\n",
    "    \n",
    "    index = np.argmin(distance)\n",
    "    return Y_train[index]"
   ]
  },
  {
   "cell_type": "code",
   "execution_count": 100,
   "metadata": {},
   "outputs": [
    {
     "name": "stdout",
     "output_type": "stream",
     "text": [
      "Accuracy for test images is =  6.0606060606060606\n"
     ]
    }
   ],
   "source": [
    "accuracy = 0 \n",
    "for i in range(len(Y_test)):\n",
    "#     print(\"Yes\")\n",
    "    name = (Test(avg,i,K,X_test))\n",
    "    if name == Y_test[i]:\n",
    "        accuracy += 1\n",
    "Total_test_images_taken = 33\n",
    "accuracy = accuracy/Total_test_images_taken\n",
    "print('Accuracy for test images is = ',accuracy*100)"
   ]
  },
  {
   "cell_type": "code",
   "execution_count": null,
   "metadata": {},
   "outputs": [],
   "source": []
  },
  {
   "cell_type": "markdown",
   "metadata": {},
   "source": [
    "# Trying other Code"
   ]
  },
  {
   "cell_type": "code",
   "execution_count": 19,
   "metadata": {},
   "outputs": [],
   "source": [
    "# Importing necessary libraries\n",
    "import warnings\n",
    "warnings.filterwarnings(\"ignore\")\n",
    "import numpy as np\n",
    "import pandas as pd\n",
    "import cv2\n",
    "import matplotlib.pyplot as plt\n",
    "import random\n",
    "import scipy"
   ]
  },
  {
   "cell_type": "code",
   "execution_count": 20,
   "metadata": {},
   "outputs": [],
   "source": [
    "shi_inter = np.zeros((40*40,))  # N*N x 0 dimension matrix & Shape of input image is 112*92\n",
    "#Using Pretrained Cascade classifier for better performance.\n",
    "face_cascade = cv2.CascadeClassifier(cv2.haarcascades + \"haarcascade_frontalface_default.xml\")\n",
    "\n",
    "images = [] #Images to be stored\n",
    "\n",
    "ndim = (40,40) #Consistent dimension of the images used in all the code\n",
    "\n",
    "df_faces = pd.read_csv(\"yalefaces/yalefaces.csv\", names = [\"Label\",\"x\",\"y\",\"w\",\"h\",\"Path\",\"W\",\"H\"])\n",
    "\n",
    "images_paths = df_faces[\"Path\"].values #Images paths\n",
    "\n",
    "Labels = df_faces['Label'].values #Images labels for face-rec.\n",
    "\n",
    "for image_path in (images_paths): \n",
    "\n",
    "    img = cv2.imread(\"yalefaces2/\" + image_path, cv2.IMREAD_GRAYSCALE) #Reading image in gray scale\n",
    "    \n",
    "    faces = face_cascade.detectMultiScale(img, 1.3, 5) \n",
    "    \n",
    "    if faces != () : #If face is detected using Haarcascade classifier\n",
    "    \n",
    "        x,y,w,h = faces[0][0], faces[0][1], faces[0][2], faces[0][3] #Coordinates of the face detected rectangle\n",
    "    \n",
    "        img = img[y:y+h, x:x+w] #Face crop for use in eigenFace algo.\n",
    "    \n",
    "        img = cv2.resize(img, ndim) #Maintaing consitency in image size\n",
    "    \n",
    "        img = np.asarray(img,dtype=float) #Normilizing the image pixels\n",
    "    \n",
    "        images.append(img.flatten()) #Flat image\n",
    "        \n",
    "        shi_inter = shi_inter + img.flatten()\n",
    "    \n",
    "    else: #If face is not detected store entire image instead of face\n",
    "    \n",
    "        img = cv2.resize(img, ndim)\n",
    "    \n",
    "        img = np.asarray(img,dtype=float)\n",
    "    \n",
    "        images.append(img.flatten())\n",
    "        \n",
    "        shi_inter = shi_inter + img.flatten()"
   ]
  },
  {
   "cell_type": "code",
   "execution_count": 21,
   "metadata": {},
   "outputs": [
    {
     "data": {
      "text/plain": [
       "((133, 1600), (133,), (33, 1600), (33,))"
      ]
     },
     "execution_count": 21,
     "metadata": {},
     "output_type": "execute_result"
    }
   ],
   "source": [
    "def shuffle_split(X, Y): #Randomly shuffling and splitting the data into Train and Test sets\n",
    "    no_for_test, no_for_train = [], []\n",
    "    count = 0\n",
    "    while count != 33: #33 Images for testing\n",
    "        x = random.randint(0,165)\n",
    "        if (x in no_for_test) or (x in no_for_train):\n",
    "            continue\n",
    "        else:\n",
    "            no_for_test.append(x)\n",
    "            count+=1\n",
    "    count = 0\n",
    "    while count!=133: #133 Images for training\n",
    "        x = random.randint(0,165)\n",
    "        if (x in no_for_train) or (x in no_for_test):\n",
    "            continue\n",
    "        else:\n",
    "            no_for_train.append(x)\n",
    "            count+=1\n",
    "    return X[no_for_train,], Y[no_for_train], X[no_for_test,], Y[no_for_test]\n",
    "\n",
    "images = np.matrix(images) #Change to np array\n",
    "\n",
    "X, Y = images, Labels\n",
    "\n",
    "X_train, Y_train, X_test, Y_test = shuffle_split(X,Y)\n",
    "\n",
    "flattened_images = X_train\n",
    "image = flattened_images\n",
    "\n",
    "X_train.shape , Y_train.shape , X_test.shape, Y_test.shape"
   ]
  },
  {
   "cell_type": "code",
   "execution_count": 22,
   "metadata": {},
   "outputs": [
    {
     "name": "stdout",
     "output_type": "stream",
     "text": [
      "Shape of the mean_image : 1600\n"
     ]
    }
   ],
   "source": [
    "def ImagesDisplay(images): #Function to display images in 5x5 grid\n",
    "    fig1, axes = plt.subplots(5, 5)\n",
    "    fig1.set_size_inches(5, 5)\n",
    "    k=0\n",
    "    for row in range(5):\n",
    "        for col in range(5):    \n",
    "            im = cv2.resize(images[k],(40,40))\n",
    "            image_plot = axes[row][col].imshow(im,cmap = plt.cm.gray) \n",
    "            axes[row][col].axis('off')\n",
    "            k = k+1\n",
    "    plt.show()\n",
    "\n",
    "shi = shi_inter/len(image) # Average matrix \n",
    "print(\"Shape of the mean_image : %d\"%shi.shape)"
   ]
  },
  {
   "cell_type": "code",
   "execution_count": 23,
   "metadata": {},
   "outputs": [
    {
     "data": {
      "image/png": "[encoded data removed]",
      "text/plain": [
       "<Figure size 432x288 with 1 Axes>"
      ]
     },
     "metadata": {
      "needs_background": "light"
     },
     "output_type": "display_data"
    }
   ],
   "source": [
    "#Mean Face\n",
    "temp_image = shi.reshape(40,40)\n",
    "plt.imshow(temp_image, cmap = \"gray\")\n",
    "plt.title(\"Average Face\")\n",
    "plt.show()"
   ]
  },
  {
   "cell_type": "code",
   "execution_count": 25,
   "metadata": {},
   "outputs": [
    {
     "data": {
      "text/plain": [
       "(133, 1600)"
      ]
     },
     "execution_count": 25,
     "metadata": {},
     "output_type": "execute_result"
    }
   ],
   "source": [
    "A=[] # Creating a difference matrix \n",
    "for i in range(len(image)):\n",
    "    phi_i = flattened_images[i] - shi\n",
    "    A.extend(phi_i.tolist())\n",
    "A = np.array(A) # We get a matrix with dimension of (M x N^2) but we want matrix of (N^2 x M)\n",
    "A.shape"
   ]
  },
  {
   "cell_type": "code",
   "execution_count": 26,
   "metadata": {},
   "outputs": [
    {
     "name": "stdout",
     "output_type": "stream",
     "text": [
      "(133, 133)\n"
     ]
    },
    {
     "data": {
      "text/plain": [
       "(133, 1600)"
      ]
     },
     "execution_count": 26,
     "metadata": {},
     "output_type": "execute_result"
    }
   ],
   "source": [
    "small_cov_mat = np.dot(A, np.transpose(A)) # We will get a matrix of MxM dimension\n",
    "print(small_cov_mat.shape)\n",
    "\n",
    "w,v = np.linalg.eig(small_cov_mat) #Eigenvector and eigenvalues of small_cov_mat\n",
    "ind = w.argsort()[::-1]\n",
    "w_sort = w[ind]\n",
    "v_sort = v[ind] #Sorted eigenvector\n",
    "\n",
    "u = np.dot(np.transpose(A),v_sort) # Eigen Vector of Covarince Matrix\n",
    "u = np.transpose(u) \n",
    "u_norm = np.zeros((len(flattened_images),1600))\n",
    "u_norm.shape"
   ]
  },
  {
   "cell_type": "code",
   "execution_count": null,
   "metadata": {},
   "outputs": [],
   "source": []
  },
  {
   "cell_type": "code",
   "execution_count": null,
   "metadata": {},
   "outputs": [],
   "source": []
  },
  {
   "cell_type": "code",
   "execution_count": 27,
   "metadata": {},
   "outputs": [],
   "source": [
    "for i in range(len(flattened_images)): #Calculating normalized value of u\n",
    "    u_norm[i] = u[i]/np.linalg.norm(u[i], ord=2, axis=0, keepdims=True)\n",
    "\n",
    "    \n",
    "weight_mat = [] #Calculating Weight matrix"
   ]
  },
  {
   "cell_type": "code",
   "execution_count": 28,
   "metadata": {},
   "outputs": [
    {
     "data": {
      "text/plain": [
       "(133, 30)"
      ]
     },
     "execution_count": 28,
     "metadata": {},
     "output_type": "execute_result"
    }
   ],
   "source": [
    "K = 30 # Taking number of feature\n",
    "for i in range(len(flattened_images)):\n",
    "    w =[]\n",
    "    for j in range(K):\n",
    "        w.append(np.dot(np.transpose(u_norm[j]) ,A[i]))\n",
    "    weight_mat.append(w)\n",
    "weight_mat = np.array(weight_mat) #Final weight matrix\n",
    "weight_mat.shape"
   ]
  },
  {
   "cell_type": "code",
   "execution_count": 31,
   "metadata": {},
   "outputs": [],
   "source": [
    "def test(shi,num,K,image):\n",
    "    im_test = X_test[num] #Test image\n",
    "    im_test = im_test.flatten() # Flattened test image\n",
    "    phi_test = im_test - shi\n",
    "    omega = [] #Weight matrix of test image\n",
    "    for i in range(K):\n",
    "        omega.append(np.dot(np.transpose(u_norm[i]),phi_test.T)) \n",
    "\n",
    "    distance = [] # Calculating distance from all the train image\n",
    "    for i in range(len(flattened_images)):\n",
    "        distance.append(np.linalg.norm(omega - weight_mat[i]))\n",
    "    \n",
    "    index = np.argmin(distance)\n",
    "    print(index)\n",
    "    return Y_train[index]"
   ]
  },
  {
   "cell_type": "code",
   "execution_count": 32,
   "metadata": {},
   "outputs": [
    {
     "name": "stdout",
     "output_type": "stream",
     "text": [
      "63\n",
      "119\n",
      "63\n",
      "119\n",
      "63\n",
      "63\n",
      "119\n",
      "119\n",
      "119\n",
      "119\n",
      "63\n",
      "119\n",
      "63\n",
      "63\n",
      "63\n",
      "17\n",
      "119\n",
      "63\n",
      "119\n",
      "63\n",
      "63\n",
      "119\n",
      "63\n",
      "63\n",
      "119\n",
      "63\n",
      "119\n",
      "63\n",
      "63\n",
      "63\n",
      "63\n",
      "63\n",
      "63\n",
      "Accuracy for test images is =  6.0606060606060606\n"
     ]
    }
   ],
   "source": [
    "accuracy = 0 \n",
    "obt_value =[]\n",
    "orig_mat = []\n",
    "for i in range(len(Y_test)):\n",
    "#     print(\"Yes\")\n",
    "    name = (test(shi,i,K,flattened_images))\n",
    "    if name == Y_test[i]:\n",
    "        accuracy += 1 \n",
    "Total_test_images_taken = 33 # If we change the range (1,41 and 8,11) we have to change value accordingly\n",
    "accuracy = accuracy/Total_test_images_taken\n",
    "print('Accuracy for test images is = ',accuracy*100)"
   ]
  },
  {
   "cell_type": "code",
   "execution_count": null,
   "metadata": {},
   "outputs": [],
   "source": []
  },
  {
   "cell_type": "code",
   "execution_count": null,
   "metadata": {},
   "outputs": [],
   "source": []
  },
  {
   "cell_type": "code",
   "execution_count": null,
   "metadata": {},
   "outputs": [],
   "source": []
  }
 ],
 "metadata": {
  "kernelspec": {
   "display_name": "Python 3",
   "language": "python",
   "name": "python3"
  },
  "language_info": {
   "codemirror_mode": {
    "name": "ipython",
    "version": 3
   },
   "file_extension": ".py",
   "mimetype": "text/x-python",
   "name": "python",
   "nbconvert_exporter": "python",
   "pygments_lexer": "ipython3",
   "version": "3.7.7"
  }
 },
 "nbformat": 4,
 "nbformat_minor": 4
}
